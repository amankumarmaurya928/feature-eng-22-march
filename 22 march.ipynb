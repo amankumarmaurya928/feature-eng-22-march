{
 "cells": [
  {
   "cell_type": "code",
   "execution_count": 1,
   "metadata": {},
   "outputs": [
    {
     "name": "stdout",
     "output_type": "stream",
     "text": [
      "Covariance matrix of X,Y: [[6.66666667 6.66666667]\n",
      " [6.66666667 6.66666667]]\n",
      "2.23606797749979\n",
      "2.23606797749979\n",
      "correlation coefficient: [[1.33333333 1.33333333]\n",
      " [1.33333333 1.33333333]]\n"
     ]
    }
   ],
   "source": [
    "# Q1\n",
    "'''To calculate the Pearson correlation, start by determining each variable's standard deviation as well as the covariance\n",
    "   between them. The correlation coefficient is covariance divided by the product of the two variables' standard deviations. \n",
    "   Standard deviation is a measure of the dispersion of data from its average.\n",
    "Example:'''\n",
    "X = [2,4,6,8]\n",
    "Y = [3,5,7,9]\n",
    "import numpy as np\n",
    "X =np.array([2,4,6,8])\n",
    "Y = np.array([3,5,7,9])\n",
    "\n",
    "print(\"Covariance matrix of X,Y:\", np.cov(X,Y))\n",
    "cov = np.cov(X,Y)\n",
    "var = (np.std(X))*(np.std(Y))\n",
    "print(np.std(X))\n",
    "print(np.std(Y))\n",
    "coff_correlation = cov/var\n",
    "print ('correlation coefficient:',coff_correlation)"
   ]
  },
  {
   "cell_type": "code",
   "execution_count": 2,
   "metadata": {},
   "outputs": [
    {
     "name": "stdout",
     "output_type": "stream",
     "text": [
      "[[ 0.41142857 -0.08228571]\n",
      " [-0.08228571  0.41142857]]\n"
     ]
    }
   ],
   "source": [
    "# Q2\n",
    "#for Spearman's rank take example\n",
    "'''x = (1,3,5,7,0,8)\n",
    " y = (2,4,6,8,7,1)'''\n",
    "import numpy as np\n",
    "x = np.array([5,4,3,2,6,1])\n",
    "y = np.array([5,4,3,1,2,6])\n",
    "cov = np.cov(x,y)\n",
    "varx = np.var(x)\n",
    "vary = np.var(y)\n",
    "spearman_correlation=cov/(varx*vary)\n",
    "print(spearman_correlation)"
   ]
  },
  {
   "cell_type": "code",
   "execution_count": 3,
   "metadata": {},
   "outputs": [
    {
     "data": {
      "text/plain": [
       "\"Pearson correlation: \\n   Pearson correlation evaluates the linear relationship between two continuous variables.\\n  Spearmancorrelation: \\n  Spearman correlation evaluates the monotonic relationship. The Spearman correlation coefficient is based on \\n  the ranked values for each variable rather than the raw data.\\n example:\\n  For Pearson:\\n\\n> Pear <- cor.test(data$Girth, data$Height, method = 'pearson')\\n> Pear\\n\\n\\tPearson's product-moment correlation\\n\\ndata:  data$Girth and data$Height\\nt = 3.2722, df = 29, p-value = 0.002758\\nalternative hypothesis: true correlation is not equal to 0\\n95 percent confidence interval:\\n 0.2021327 0.7378538\\nsample estimates:\\n      cor \\n0.5192801\\n\\n\\nFor Spearman:\\n\\n> Spear <- cor.test(data$Girth, data$Height, method = 'spearman')\\n> Spear\\n\\n\\tSpearman's rank correlation rho\\n\\ndata:  data$Girth and data$Height\\nS = 2773.4, p-value = 0.01306\\nalternative hypothesis: true rho is not equal to 0\\nsample estimates:\\n      rho \\n0.4408387\\nSince the p-value is less than 0.05 (For Pearson it is 0.002758 and for Spearman, it is 0.01306.\\n\""
      ]
     },
     "execution_count": 3,
     "metadata": {},
     "output_type": "execute_result"
    }
   ],
   "source": [
    "# Q3\n",
    "'''Pearson correlation: \n",
    "   Pearson correlation evaluates the linear relationship between two continuous variables.\n",
    "  Spearmancorrelation: \n",
    "  Spearman correlation evaluates the monotonic relationship. The Spearman correlation coefficient is based on \n",
    "  the ranked values for each variable rather than the raw data.\n",
    " example:\n",
    "  For Pearson:\n",
    "\n",
    "> Pear <- cor.test(data$Girth, data$Height, method = 'pearson')\n",
    "> Pear\n",
    "\n",
    "\tPearson's product-moment correlation\n",
    "\n",
    "data:  data$Girth and data$Height\n",
    "t = 3.2722, df = 29, p-value = 0.002758\n",
    "alternative hypothesis: true correlation is not equal to 0\n",
    "95 percent confidence interval:\n",
    " 0.2021327 0.7378538\n",
    "sample estimates:\n",
    "      cor \n",
    "0.5192801\n",
    "\n",
    "\n",
    "For Spearman:\n",
    "\n",
    "> Spear <- cor.test(data$Girth, data$Height, method = 'spearman')\n",
    "> Spear\n",
    "\n",
    "\tSpearman's rank correlation rho\n",
    "\n",
    "data:  data$Girth and data$Height\n",
    "S = 2773.4, p-value = 0.01306\n",
    "alternative hypothesis: true rho is not equal to 0\n",
    "sample estimates:\n",
    "      rho \n",
    "0.4408387\n",
    "Since the p-value is less than 0.05 (For Pearson it is 0.002758 and for Spearman, it is 0.01306.\n",
    "'''"
   ]
  },
  {
   "cell_type": "code",
   "execution_count": 4,
   "metadata": {},
   "outputs": [
    {
     "data": {
      "text/plain": [
       "\"The Pearson's correlation coefficient is calculated as the covariance of the two variables divided by the product of the \\n  standard deviation of each data sample. It is the normalization of the covariance between the two variables to give an \\n  interpretable score.\\nStep 1: Calculate the sums of x and y. Start by renaming the variables to “x” and “y.” ...\\nStep 2: Calculate x2 and y2 and their sums. Create two new columns that contain the squares of x and y. ...\\nStep 3: Calculate the cross product and its sum. ...\\nStep 4: Calculate r.\\nBelow is a formula for calculating the Pearson correlation coefficient (r):\\n r = \\x0crac{ n\\\\sum{xy}-(\\\\sum{x})(\\\\sum{y})}{% \\\\sqrt{[n\\\\sum{x^2}-(\\\\sum{x})^2][n\\\\sum{y^2}-(\\\\sum{y})^2]}} \\\\end{equation*}\\n \""
      ]
     },
     "execution_count": 4,
     "metadata": {},
     "output_type": "execute_result"
    }
   ],
   "source": [
    "# Q4\n",
    "'''The Pearson's correlation coefficient is calculated as the covariance of the two variables divided by the product of the \n",
    "  standard deviation of each data sample. It is the normalization of the covariance between the two variables to give an \n",
    "  interpretable score.\n",
    "Step 1: Calculate the sums of x and y. Start by renaming the variables to “x” and “y.” ...\n",
    "Step 2: Calculate x2 and y2 and their sums. Create two new columns that contain the squares of x and y. ...\n",
    "Step 3: Calculate the cross product and its sum. ...\n",
    "Step 4: Calculate r.\n",
    "Below is a formula for calculating the Pearson correlation coefficient (r):\n",
    " r = \\frac{ n\\sum{xy}-(\\sum{x})(\\sum{y})}{% \\sqrt{[n\\sum{x^2}-(\\sum{x})^2][n\\sum{y^2}-(\\sum{y})^2]}} \\end{equation*}\n",
    " '''"
   ]
  },
  {
   "cell_type": "code",
   "execution_count": 5,
   "metadata": {},
   "outputs": [
    {
     "data": {
      "text/plain": [
       "<AxesSubplot: >"
      ]
     },
     "execution_count": 5,
     "metadata": {},
     "output_type": "execute_result"
    },
    {
     "data": {
      "image/png": "[encoded data removed]",
      "text/plain": [
       "<Figure size 640x480 with 1 Axes>"
      ]
     },
     "metadata": {},
     "output_type": "display_data"
    }
   ],
   "source": [
    "# Q5\n",
    "import pandas as pd\n",
    "df = pd.DataFrame({'age':[25,42,37,19,31,28],\n",
    "                  'Soft_drink_Preference':['Coke','Pepsi','Mountain dew','Coke','Pepsi','Coke']})\n",
    "df.plot()"
   ]
  },
  {
   "cell_type": "code",
   "execution_count": 6,
   "metadata": {},
   "outputs": [
    {
     "data": {
      "text/plain": [
       "\" Pearson's correlation coefficient calculates the effect of change in one variable when the other variable changes.\\n  example:\\n  Up till a certain age (in most cases), a child's height will keep increasing as his/her age increases.\\n  you might use a Pearson correlation to evaluate whether increases in temperature at your production facility are associated\\n  with decreasing thickness of your chocolate coating. The Spearman correlation evaluates the monotonic relationship between \\n  two continuous or ordinal variables.\\n  The Pearson's correlation coefficient is calculated as the covariance of the two variables divided by the product of the \\n  standard deviation of each data sample. It is the normalization of the covariance between the two variables to give an \\n  interpretable score.\\nStep 1: Calculate the sums of x and y. Start by renaming the variables to “x” and “y.” ...\\nStep 2: Calculate x2 and y2 and their sums. Create two new columns that contain the squares of x and y. ...\\nStep 3: Calculate the cross product and its sum. ...\\nStep 4: Calculate r.\\nBelow is a formula for calculating the Pearson correlation coefficient (r):\\n r = \\x0crac{ n\\\\sum{xy}-(\\\\sum{x})(\\\\sum{y})}{% \\\\sqrt{[n\\\\sum{x^2}-(\\\\sum{x})^2][n\\\\sum{y^2}-(\\\\sum{y})^2]}} \\\\end{equation*}\\n \""
      ]
     },
     "execution_count": 6,
     "metadata": {},
     "output_type": "execute_result"
    }
   ],
   "source": [
    "# Q6\n",
    "''' Pearson's correlation coefficient calculates the effect of change in one variable when the other variable changes.\n",
    "  example:\n",
    "  Up till a certain age (in most cases), a child's height will keep increasing as his/her age increases.\n",
    "  you might use a Pearson correlation to evaluate whether increases in temperature at your production facility are associated\n",
    "  with decreasing thickness of your chocolate coating. The Spearman correlation evaluates the monotonic relationship between \n",
    "  two continuous or ordinal variables.\n",
    "  The Pearson's correlation coefficient is calculated as the covariance of the two variables divided by the product of the \n",
    "  standard deviation of each data sample. It is the normalization of the covariance between the two variables to give an \n",
    "  interpretable score.\n",
    "Step 1: Calculate the sums of x and y. Start by renaming the variables to “x” and “y.” ...\n",
    "Step 2: Calculate x2 and y2 and their sums. Create two new columns that contain the squares of x and y. ...\n",
    "Step 3: Calculate the cross product and its sum. ...\n",
    "Step 4: Calculate r.\n",
    "Below is a formula for calculating the Pearson correlation coefficient (r):\n",
    " r = \\frac{ n\\sum{xy}-(\\sum{x})(\\sum{y})}{% \\sqrt{[n\\sum{x^2}-(\\sum{x})^2][n\\sum{y^2}-(\\sum{y})^2]}} \\end{equation*}\n",
    " '''"
   ]
  },
  {
   "cell_type": "code",
   "execution_count": null,
   "metadata": {},
   "outputs": [],
   "source": []
  },
  {
   "cell_type": "code",
   "execution_count": null,
   "metadata": {},
   "outputs": [],
   "source": []
  }
 ],
 "metadata": {
  "kernelspec": {
   "display_name": "Python 3 (ipykernel)",
   "language": "python",
   "name": "python3"
  },
  "language_info": {
   "codemirror_mode": {
    "name": "ipython",
    "version": 3
   },
   "file_extension": ".py",
   "mimetype": "text/x-python",
   "name": "python",
   "nbconvert_exporter": "python",
   "pygments_lexer": "ipython3",
   "version": "3.10.8"
  }
 },
 "nbformat": 4,
 "nbformat_minor": 4
}
